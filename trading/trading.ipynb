{
 "cells": [
  {
   "cell_type": "code",
   "execution_count": 1,
   "metadata": {},
   "outputs": [],
   "source": [
    "import pandas as pd\n",
    "import numpy as np"
   ]
  },
  {
   "cell_type": "code",
   "execution_count": 2,
   "metadata": {},
   "outputs": [
    {
     "ename": "FileNotFoundError",
     "evalue": "[Errno 2] No such file or directory: 'engish_headlines_3_nnew.csv'",
     "output_type": "error",
     "traceback": [
      "\u001b[1;31m---------------------------------------------------------------------------\u001b[0m",
      "\u001b[1;31mFileNotFoundError\u001b[0m                         Traceback (most recent call last)",
      "Cell \u001b[1;32mIn[2], line 1\u001b[0m\n\u001b[1;32m----> 1\u001b[0m data \u001b[38;5;241m=\u001b[39m \u001b[43mpd\u001b[49m\u001b[38;5;241;43m.\u001b[39;49m\u001b[43mread_csv\u001b[49m\u001b[43m(\u001b[49m\u001b[38;5;124;43m\"\u001b[39;49m\u001b[38;5;124;43mengish_headlines_3_nnew.csv\u001b[39;49m\u001b[38;5;124;43m\"\u001b[39;49m\u001b[43m,\u001b[49m\u001b[43m \u001b[49m\u001b[43mencoding\u001b[49m\u001b[38;5;241;43m=\u001b[39;49m\u001b[38;5;124;43m\"\u001b[39;49m\u001b[38;5;124;43mlatin-1\u001b[39;49m\u001b[38;5;124;43m\"\u001b[39;49m\u001b[43m)\u001b[49m\n",
      "File \u001b[1;32m~\\AppData\\Local\\Packages\\PythonSoftwareFoundation.Python.3.10_qbz5n2kfra8p0\\LocalCache\\local-packages\\Python310\\site-packages\\pandas\\io\\parsers\\readers.py:948\u001b[0m, in \u001b[0;36mread_csv\u001b[1;34m(filepath_or_buffer, sep, delimiter, header, names, index_col, usecols, dtype, engine, converters, true_values, false_values, skipinitialspace, skiprows, skipfooter, nrows, na_values, keep_default_na, na_filter, verbose, skip_blank_lines, parse_dates, infer_datetime_format, keep_date_col, date_parser, date_format, dayfirst, cache_dates, iterator, chunksize, compression, thousands, decimal, lineterminator, quotechar, quoting, doublequote, escapechar, comment, encoding, encoding_errors, dialect, on_bad_lines, delim_whitespace, low_memory, memory_map, float_precision, storage_options, dtype_backend)\u001b[0m\n\u001b[0;32m    935\u001b[0m kwds_defaults \u001b[38;5;241m=\u001b[39m _refine_defaults_read(\n\u001b[0;32m    936\u001b[0m     dialect,\n\u001b[0;32m    937\u001b[0m     delimiter,\n\u001b[1;32m   (...)\u001b[0m\n\u001b[0;32m    944\u001b[0m     dtype_backend\u001b[38;5;241m=\u001b[39mdtype_backend,\n\u001b[0;32m    945\u001b[0m )\n\u001b[0;32m    946\u001b[0m kwds\u001b[38;5;241m.\u001b[39mupdate(kwds_defaults)\n\u001b[1;32m--> 948\u001b[0m \u001b[38;5;28;01mreturn\u001b[39;00m \u001b[43m_read\u001b[49m\u001b[43m(\u001b[49m\u001b[43mfilepath_or_buffer\u001b[49m\u001b[43m,\u001b[49m\u001b[43m \u001b[49m\u001b[43mkwds\u001b[49m\u001b[43m)\u001b[49m\n",
      "File \u001b[1;32m~\\AppData\\Local\\Packages\\PythonSoftwareFoundation.Python.3.10_qbz5n2kfra8p0\\LocalCache\\local-packages\\Python310\\site-packages\\pandas\\io\\parsers\\readers.py:611\u001b[0m, in \u001b[0;36m_read\u001b[1;34m(filepath_or_buffer, kwds)\u001b[0m\n\u001b[0;32m    608\u001b[0m _validate_names(kwds\u001b[38;5;241m.\u001b[39mget(\u001b[38;5;124m\"\u001b[39m\u001b[38;5;124mnames\u001b[39m\u001b[38;5;124m\"\u001b[39m, \u001b[38;5;28;01mNone\u001b[39;00m))\n\u001b[0;32m    610\u001b[0m \u001b[38;5;66;03m# Create the parser.\u001b[39;00m\n\u001b[1;32m--> 611\u001b[0m parser \u001b[38;5;241m=\u001b[39m TextFileReader(filepath_or_buffer, \u001b[38;5;241m*\u001b[39m\u001b[38;5;241m*\u001b[39mkwds)\n\u001b[0;32m    613\u001b[0m \u001b[38;5;28;01mif\u001b[39;00m chunksize \u001b[38;5;129;01mor\u001b[39;00m iterator:\n\u001b[0;32m    614\u001b[0m     \u001b[38;5;28;01mreturn\u001b[39;00m parser\n",
      "File \u001b[1;32m~\\AppData\\Local\\Packages\\PythonSoftwareFoundation.Python.3.10_qbz5n2kfra8p0\\LocalCache\\local-packages\\Python310\\site-packages\\pandas\\io\\parsers\\readers.py:1448\u001b[0m, in \u001b[0;36mTextFileReader.__init__\u001b[1;34m(self, f, engine, **kwds)\u001b[0m\n\u001b[0;32m   1445\u001b[0m     \u001b[38;5;28mself\u001b[39m\u001b[38;5;241m.\u001b[39moptions[\u001b[38;5;124m\"\u001b[39m\u001b[38;5;124mhas_index_names\u001b[39m\u001b[38;5;124m\"\u001b[39m] \u001b[38;5;241m=\u001b[39m kwds[\u001b[38;5;124m\"\u001b[39m\u001b[38;5;124mhas_index_names\u001b[39m\u001b[38;5;124m\"\u001b[39m]\n\u001b[0;32m   1447\u001b[0m \u001b[38;5;28mself\u001b[39m\u001b[38;5;241m.\u001b[39mhandles: IOHandles \u001b[38;5;241m|\u001b[39m \u001b[38;5;28;01mNone\u001b[39;00m \u001b[38;5;241m=\u001b[39m \u001b[38;5;28;01mNone\u001b[39;00m\n\u001b[1;32m-> 1448\u001b[0m \u001b[38;5;28mself\u001b[39m\u001b[38;5;241m.\u001b[39m_engine \u001b[38;5;241m=\u001b[39m \u001b[38;5;28;43mself\u001b[39;49m\u001b[38;5;241;43m.\u001b[39;49m\u001b[43m_make_engine\u001b[49m\u001b[43m(\u001b[49m\u001b[43mf\u001b[49m\u001b[43m,\u001b[49m\u001b[43m \u001b[49m\u001b[38;5;28;43mself\u001b[39;49m\u001b[38;5;241;43m.\u001b[39;49m\u001b[43mengine\u001b[49m\u001b[43m)\u001b[49m\n",
      "File \u001b[1;32m~\\AppData\\Local\\Packages\\PythonSoftwareFoundation.Python.3.10_qbz5n2kfra8p0\\LocalCache\\local-packages\\Python310\\site-packages\\pandas\\io\\parsers\\readers.py:1705\u001b[0m, in \u001b[0;36mTextFileReader._make_engine\u001b[1;34m(self, f, engine)\u001b[0m\n\u001b[0;32m   1703\u001b[0m     \u001b[38;5;28;01mif\u001b[39;00m \u001b[38;5;124m\"\u001b[39m\u001b[38;5;124mb\u001b[39m\u001b[38;5;124m\"\u001b[39m \u001b[38;5;129;01mnot\u001b[39;00m \u001b[38;5;129;01min\u001b[39;00m mode:\n\u001b[0;32m   1704\u001b[0m         mode \u001b[38;5;241m+\u001b[39m\u001b[38;5;241m=\u001b[39m \u001b[38;5;124m\"\u001b[39m\u001b[38;5;124mb\u001b[39m\u001b[38;5;124m\"\u001b[39m\n\u001b[1;32m-> 1705\u001b[0m \u001b[38;5;28mself\u001b[39m\u001b[38;5;241m.\u001b[39mhandles \u001b[38;5;241m=\u001b[39m \u001b[43mget_handle\u001b[49m\u001b[43m(\u001b[49m\n\u001b[0;32m   1706\u001b[0m \u001b[43m    \u001b[49m\u001b[43mf\u001b[49m\u001b[43m,\u001b[49m\n\u001b[0;32m   1707\u001b[0m \u001b[43m    \u001b[49m\u001b[43mmode\u001b[49m\u001b[43m,\u001b[49m\n\u001b[0;32m   1708\u001b[0m \u001b[43m    \u001b[49m\u001b[43mencoding\u001b[49m\u001b[38;5;241;43m=\u001b[39;49m\u001b[38;5;28;43mself\u001b[39;49m\u001b[38;5;241;43m.\u001b[39;49m\u001b[43moptions\u001b[49m\u001b[38;5;241;43m.\u001b[39;49m\u001b[43mget\u001b[49m\u001b[43m(\u001b[49m\u001b[38;5;124;43m\"\u001b[39;49m\u001b[38;5;124;43mencoding\u001b[39;49m\u001b[38;5;124;43m\"\u001b[39;49m\u001b[43m,\u001b[49m\u001b[43m \u001b[49m\u001b[38;5;28;43;01mNone\u001b[39;49;00m\u001b[43m)\u001b[49m\u001b[43m,\u001b[49m\n\u001b[0;32m   1709\u001b[0m \u001b[43m    \u001b[49m\u001b[43mcompression\u001b[49m\u001b[38;5;241;43m=\u001b[39;49m\u001b[38;5;28;43mself\u001b[39;49m\u001b[38;5;241;43m.\u001b[39;49m\u001b[43moptions\u001b[49m\u001b[38;5;241;43m.\u001b[39;49m\u001b[43mget\u001b[49m\u001b[43m(\u001b[49m\u001b[38;5;124;43m\"\u001b[39;49m\u001b[38;5;124;43mcompression\u001b[39;49m\u001b[38;5;124;43m\"\u001b[39;49m\u001b[43m,\u001b[49m\u001b[43m \u001b[49m\u001b[38;5;28;43;01mNone\u001b[39;49;00m\u001b[43m)\u001b[49m\u001b[43m,\u001b[49m\n\u001b[0;32m   1710\u001b[0m \u001b[43m    \u001b[49m\u001b[43mmemory_map\u001b[49m\u001b[38;5;241;43m=\u001b[39;49m\u001b[38;5;28;43mself\u001b[39;49m\u001b[38;5;241;43m.\u001b[39;49m\u001b[43moptions\u001b[49m\u001b[38;5;241;43m.\u001b[39;49m\u001b[43mget\u001b[49m\u001b[43m(\u001b[49m\u001b[38;5;124;43m\"\u001b[39;49m\u001b[38;5;124;43mmemory_map\u001b[39;49m\u001b[38;5;124;43m\"\u001b[39;49m\u001b[43m,\u001b[49m\u001b[43m \u001b[49m\u001b[38;5;28;43;01mFalse\u001b[39;49;00m\u001b[43m)\u001b[49m\u001b[43m,\u001b[49m\n\u001b[0;32m   1711\u001b[0m \u001b[43m    \u001b[49m\u001b[43mis_text\u001b[49m\u001b[38;5;241;43m=\u001b[39;49m\u001b[43mis_text\u001b[49m\u001b[43m,\u001b[49m\n\u001b[0;32m   1712\u001b[0m \u001b[43m    \u001b[49m\u001b[43merrors\u001b[49m\u001b[38;5;241;43m=\u001b[39;49m\u001b[38;5;28;43mself\u001b[39;49m\u001b[38;5;241;43m.\u001b[39;49m\u001b[43moptions\u001b[49m\u001b[38;5;241;43m.\u001b[39;49m\u001b[43mget\u001b[49m\u001b[43m(\u001b[49m\u001b[38;5;124;43m\"\u001b[39;49m\u001b[38;5;124;43mencoding_errors\u001b[39;49m\u001b[38;5;124;43m\"\u001b[39;49m\u001b[43m,\u001b[49m\u001b[43m \u001b[49m\u001b[38;5;124;43m\"\u001b[39;49m\u001b[38;5;124;43mstrict\u001b[39;49m\u001b[38;5;124;43m\"\u001b[39;49m\u001b[43m)\u001b[49m\u001b[43m,\u001b[49m\n\u001b[0;32m   1713\u001b[0m \u001b[43m    \u001b[49m\u001b[43mstorage_options\u001b[49m\u001b[38;5;241;43m=\u001b[39;49m\u001b[38;5;28;43mself\u001b[39;49m\u001b[38;5;241;43m.\u001b[39;49m\u001b[43moptions\u001b[49m\u001b[38;5;241;43m.\u001b[39;49m\u001b[43mget\u001b[49m\u001b[43m(\u001b[49m\u001b[38;5;124;43m\"\u001b[39;49m\u001b[38;5;124;43mstorage_options\u001b[39;49m\u001b[38;5;124;43m\"\u001b[39;49m\u001b[43m,\u001b[49m\u001b[43m \u001b[49m\u001b[38;5;28;43;01mNone\u001b[39;49;00m\u001b[43m)\u001b[49m\u001b[43m,\u001b[49m\n\u001b[0;32m   1714\u001b[0m \u001b[43m\u001b[49m\u001b[43m)\u001b[49m\n\u001b[0;32m   1715\u001b[0m \u001b[38;5;28;01massert\u001b[39;00m \u001b[38;5;28mself\u001b[39m\u001b[38;5;241m.\u001b[39mhandles \u001b[38;5;129;01mis\u001b[39;00m \u001b[38;5;129;01mnot\u001b[39;00m \u001b[38;5;28;01mNone\u001b[39;00m\n\u001b[0;32m   1716\u001b[0m f \u001b[38;5;241m=\u001b[39m \u001b[38;5;28mself\u001b[39m\u001b[38;5;241m.\u001b[39mhandles\u001b[38;5;241m.\u001b[39mhandle\n",
      "File \u001b[1;32m~\\AppData\\Local\\Packages\\PythonSoftwareFoundation.Python.3.10_qbz5n2kfra8p0\\LocalCache\\local-packages\\Python310\\site-packages\\pandas\\io\\common.py:863\u001b[0m, in \u001b[0;36mget_handle\u001b[1;34m(path_or_buf, mode, encoding, compression, memory_map, is_text, errors, storage_options)\u001b[0m\n\u001b[0;32m    858\u001b[0m \u001b[38;5;28;01melif\u001b[39;00m \u001b[38;5;28misinstance\u001b[39m(handle, \u001b[38;5;28mstr\u001b[39m):\n\u001b[0;32m    859\u001b[0m     \u001b[38;5;66;03m# Check whether the filename is to be opened in binary mode.\u001b[39;00m\n\u001b[0;32m    860\u001b[0m     \u001b[38;5;66;03m# Binary mode does not support 'encoding' and 'newline'.\u001b[39;00m\n\u001b[0;32m    861\u001b[0m     \u001b[38;5;28;01mif\u001b[39;00m ioargs\u001b[38;5;241m.\u001b[39mencoding \u001b[38;5;129;01mand\u001b[39;00m \u001b[38;5;124m\"\u001b[39m\u001b[38;5;124mb\u001b[39m\u001b[38;5;124m\"\u001b[39m \u001b[38;5;129;01mnot\u001b[39;00m \u001b[38;5;129;01min\u001b[39;00m ioargs\u001b[38;5;241m.\u001b[39mmode:\n\u001b[0;32m    862\u001b[0m         \u001b[38;5;66;03m# Encoding\u001b[39;00m\n\u001b[1;32m--> 863\u001b[0m         handle \u001b[38;5;241m=\u001b[39m \u001b[38;5;28;43mopen\u001b[39;49m\u001b[43m(\u001b[49m\n\u001b[0;32m    864\u001b[0m \u001b[43m            \u001b[49m\u001b[43mhandle\u001b[49m\u001b[43m,\u001b[49m\n\u001b[0;32m    865\u001b[0m \u001b[43m            \u001b[49m\u001b[43mioargs\u001b[49m\u001b[38;5;241;43m.\u001b[39;49m\u001b[43mmode\u001b[49m\u001b[43m,\u001b[49m\n\u001b[0;32m    866\u001b[0m \u001b[43m            \u001b[49m\u001b[43mencoding\u001b[49m\u001b[38;5;241;43m=\u001b[39;49m\u001b[43mioargs\u001b[49m\u001b[38;5;241;43m.\u001b[39;49m\u001b[43mencoding\u001b[49m\u001b[43m,\u001b[49m\n\u001b[0;32m    867\u001b[0m \u001b[43m            \u001b[49m\u001b[43merrors\u001b[49m\u001b[38;5;241;43m=\u001b[39;49m\u001b[43merrors\u001b[49m\u001b[43m,\u001b[49m\n\u001b[0;32m    868\u001b[0m \u001b[43m            \u001b[49m\u001b[43mnewline\u001b[49m\u001b[38;5;241;43m=\u001b[39;49m\u001b[38;5;124;43m\"\u001b[39;49m\u001b[38;5;124;43m\"\u001b[39;49m\u001b[43m,\u001b[49m\n\u001b[0;32m    869\u001b[0m \u001b[43m        \u001b[49m\u001b[43m)\u001b[49m\n\u001b[0;32m    870\u001b[0m     \u001b[38;5;28;01melse\u001b[39;00m:\n\u001b[0;32m    871\u001b[0m         \u001b[38;5;66;03m# Binary mode\u001b[39;00m\n\u001b[0;32m    872\u001b[0m         handle \u001b[38;5;241m=\u001b[39m \u001b[38;5;28mopen\u001b[39m(handle, ioargs\u001b[38;5;241m.\u001b[39mmode)\n",
      "\u001b[1;31mFileNotFoundError\u001b[0m: [Errno 2] No such file or directory: 'engish_headlines_3_nnew.csv'"
     ]
    }
   ],
   "source": [
    "data = pd.read_csv(\"engish_headlines_3_nnew.csv\", encoding=\"latin-1\")"
   ]
  },
  {
   "cell_type": "code",
   "execution_count": null,
   "metadata": {},
   "outputs": [
    {
     "data": {
      "text/html": [
       "<div>\n",
       "<style scoped>\n",
       "    .dataframe tbody tr th:only-of-type {\n",
       "        vertical-align: middle;\n",
       "    }\n",
       "\n",
       "    .dataframe tbody tr th {\n",
       "        vertical-align: top;\n",
       "    }\n",
       "\n",
       "    .dataframe thead th {\n",
       "        text-align: right;\n",
       "    }\n",
       "</style>\n",
       "<table border=\"1\" class=\"dataframe\">\n",
       "  <thead>\n",
       "    <tr style=\"text-align: right;\">\n",
       "      <th></th>\n",
       "      <th>Unnamed: 0</th>\n",
       "      <th>Date</th>\n",
       "      <th>Headline</th>\n",
       "      <th>begins_at</th>\n",
       "      <th>open_price</th>\n",
       "      <th>close_price</th>\n",
       "    </tr>\n",
       "  </thead>\n",
       "  <tbody>\n",
       "    <tr>\n",
       "      <th>0</th>\n",
       "      <td>0</td>\n",
       "      <td>2/25/2018</td>\n",
       "      <td>Original Pizza Day Purchaser Does It Again Wit...</td>\n",
       "      <td>2/25/2018</td>\n",
       "      <td>9680.2000</td>\n",
       "      <td>9584.45000</td>\n",
       "    </tr>\n",
       "    <tr>\n",
       "      <th>1</th>\n",
       "      <td>1</td>\n",
       "      <td>2/25/2018</td>\n",
       "      <td>This 11-year-old just wrote a book on bitcoin ...</td>\n",
       "      <td>2/25/2018</td>\n",
       "      <td>9680.2000</td>\n",
       "      <td>9584.45000</td>\n",
       "    </tr>\n",
       "    <tr>\n",
       "      <th>2</th>\n",
       "      <td>2</td>\n",
       "      <td>2/25/2018</td>\n",
       "      <td>Without Mentioning Blockchain, Putin Says That...</td>\n",
       "      <td>2/25/2018</td>\n",
       "      <td>9680.2000</td>\n",
       "      <td>9584.45000</td>\n",
       "    </tr>\n",
       "    <tr>\n",
       "      <th>3</th>\n",
       "      <td>3</td>\n",
       "      <td>2/25/2018</td>\n",
       "      <td>Meet the strippers tattooed with BARCODES so s...</td>\n",
       "      <td>2/25/2018</td>\n",
       "      <td>9680.2000</td>\n",
       "      <td>9584.45000</td>\n",
       "    </tr>\n",
       "    <tr>\n",
       "      <th>4</th>\n",
       "      <td>4</td>\n",
       "      <td>2/26/2018</td>\n",
       "      <td>Bitcoin Pizza Day 2: How A Lightning Payment M...</td>\n",
       "      <td>2/26/2018</td>\n",
       "      <td>9592.4950</td>\n",
       "      <td>10318.78500</td>\n",
       "    </tr>\n",
       "    <tr>\n",
       "      <th>...</th>\n",
       "      <td>...</td>\n",
       "      <td>...</td>\n",
       "      <td>...</td>\n",
       "      <td>...</td>\n",
       "      <td>...</td>\n",
       "      <td>...</td>\n",
       "    </tr>\n",
       "    <tr>\n",
       "      <th>16152</th>\n",
       "      <td>16165</td>\n",
       "      <td>2/24/2023</td>\n",
       "      <td>Top 3 Price Prediction Bitcoin, Ethereum, Ripp...</td>\n",
       "      <td>2/24/2023</td>\n",
       "      <td>23945.4039</td>\n",
       "      <td>23185.71626</td>\n",
       "    </tr>\n",
       "    <tr>\n",
       "      <th>16153</th>\n",
       "      <td>16166</td>\n",
       "      <td>2/24/2023</td>\n",
       "      <td>Bitcoin price stays under $24K as PCE data hel...</td>\n",
       "      <td>2/24/2023</td>\n",
       "      <td>23945.4039</td>\n",
       "      <td>23185.71626</td>\n",
       "    </tr>\n",
       "    <tr>\n",
       "      <th>16154</th>\n",
       "      <td>16167</td>\n",
       "      <td>2/24/2023</td>\n",
       "      <td>What are Bitcoin [BTC] whales up to? Decodingâ¦</td>\n",
       "      <td>2/24/2023</td>\n",
       "      <td>23945.4039</td>\n",
       "      <td>23185.71626</td>\n",
       "    </tr>\n",
       "    <tr>\n",
       "      <th>16155</th>\n",
       "      <td>16168</td>\n",
       "      <td>2/24/2023</td>\n",
       "      <td>Bitcoin 2024 halving will be its âmost impor...</td>\n",
       "      <td>2/24/2023</td>\n",
       "      <td>23945.4039</td>\n",
       "      <td>23185.71626</td>\n",
       "    </tr>\n",
       "    <tr>\n",
       "      <th>16156</th>\n",
       "      <td>16169</td>\n",
       "      <td>2/24/2023</td>\n",
       "      <td>Bitcoin Price Prediction As BTC Consolidates a...</td>\n",
       "      <td>2/24/2023</td>\n",
       "      <td>23945.4039</td>\n",
       "      <td>23185.71626</td>\n",
       "    </tr>\n",
       "  </tbody>\n",
       "</table>\n",
       "<p>16157 rows × 6 columns</p>\n",
       "</div>"
      ],
      "text/plain": [
       "       Unnamed: 0       Date  \\\n",
       "0               0  2/25/2018   \n",
       "1               1  2/25/2018   \n",
       "2               2  2/25/2018   \n",
       "3               3  2/25/2018   \n",
       "4               4  2/26/2018   \n",
       "...           ...        ...   \n",
       "16152       16165  2/24/2023   \n",
       "16153       16166  2/24/2023   \n",
       "16154       16167  2/24/2023   \n",
       "16155       16168  2/24/2023   \n",
       "16156       16169  2/24/2023   \n",
       "\n",
       "                                                Headline  begins_at  \\\n",
       "0      Original Pizza Day Purchaser Does It Again Wit...  2/25/2018   \n",
       "1      This 11-year-old just wrote a book on bitcoin ...  2/25/2018   \n",
       "2      Without Mentioning Blockchain, Putin Says That...  2/25/2018   \n",
       "3      Meet the strippers tattooed with BARCODES so s...  2/25/2018   \n",
       "4      Bitcoin Pizza Day 2: How A Lightning Payment M...  2/26/2018   \n",
       "...                                                  ...        ...   \n",
       "16152  Top 3 Price Prediction Bitcoin, Ethereum, Ripp...  2/24/2023   \n",
       "16153  Bitcoin price stays under $24K as PCE data hel...  2/24/2023   \n",
       "16154   What are Bitcoin [BTC] whales up to? Decodingâ¦  2/24/2023   \n",
       "16155  Bitcoin 2024 halving will be its âmost impor...  2/24/2023   \n",
       "16156  Bitcoin Price Prediction As BTC Consolidates a...  2/24/2023   \n",
       "\n",
       "       open_price  close_price  \n",
       "0       9680.2000   9584.45000  \n",
       "1       9680.2000   9584.45000  \n",
       "2       9680.2000   9584.45000  \n",
       "3       9680.2000   9584.45000  \n",
       "4       9592.4950  10318.78500  \n",
       "...           ...          ...  \n",
       "16152  23945.4039  23185.71626  \n",
       "16153  23945.4039  23185.71626  \n",
       "16154  23945.4039  23185.71626  \n",
       "16155  23945.4039  23185.71626  \n",
       "16156  23945.4039  23185.71626  \n",
       "\n",
       "[16157 rows x 6 columns]"
      ]
     },
     "execution_count": 146,
     "metadata": {},
     "output_type": "execute_result"
    }
   ],
   "source": [
    "data"
   ]
  },
  {
   "cell_type": "code",
   "execution_count": null,
   "metadata": {},
   "outputs": [],
   "source": [
    "headlines = data[\"Headline\"]\n",
    "open_prices = data[[\"Date\", \"open_price\"]]"
   ]
  },
  {
   "cell_type": "code",
   "execution_count": null,
   "metadata": {},
   "outputs": [],
   "source": [
    "model = open(\"config.txt\", \"r\").readlines()[1]\n",
    "path = open(\"config.txt\", \"r\").readlines()[0]"
   ]
  },
  {
   "cell_type": "code",
   "execution_count": null,
   "metadata": {},
   "outputs": [],
   "source": [
    "sentiments_data = pd.read_csv(path[:-1])"
   ]
  },
  {
   "cell_type": "code",
   "execution_count": null,
   "metadata": {},
   "outputs": [],
   "source": [
    "if model == \"finbert\":\n",
    "    sentiments_data.loc[sentiments_data[\"Sentiment\"] == \"Positive\", \"Sentiment\"] = 1\n",
    "    sentiments_data.loc[sentiments_data[\"Sentiment\"] == \"Negative\", \"Sentiment\"] = -1\n",
    "    sentiments_data.loc[sentiments_data[\"Sentiment\"] == \"Neutral\", \"Sentiment\"] = 0\n",
    "elif model == \"gpt\":\n",
    "    sentiments_data.loc[sentiments_data[\"Labels\"] == \"Positive\", \"Labels\"] = 1\n",
    "    sentiments_data.loc[sentiments_data[\"Labels\"] == \"Positive.\", \"Labels\"] = 1\n",
    "    sentiments_data.loc[sentiments_data[\"Labels\"] == \"Positive \", \"Labels\"] = 1\n",
    "    sentiments_data.loc[sentiments_data[\"Labels\"] == \"Negative\", \"Labels\"] = -1\n",
    "    sentiments_data.loc[sentiments_data[\"Labels\"] == \"Negative.\", \"Labels\"] = -1\n",
    "    sentiments_data.loc[sentiments_data[\"Labels\"] == \"Negative \", \"Labels\"] = -1\n",
    "    sentiments_data.loc[sentiments_data[\"Labels\"] == \"Negative  \", \"Labels\"] = -1\n",
    "    sentiments_data.loc[sentiments_data[\"Labels\"] == \"Neutral\", \"Labels\"] = 0\n",
    "    sentiments_data.loc[sentiments_data[\"Labels\"] == \"Neutral.\", \"Labels\"] = 0\n",
    "    sentiments_data.loc[sentiments_data[\"Labels\"] == \"Neutral \", \"Labels\"] = 0\n",
    "    sentiments_data.loc[sentiments_data[\"Labels\"] == \"Uncertain\", \"Labels\"] = 0\n",
    "\n",
    "    range1 = sentiments_data[\"Labels\"] != 1\n",
    "    range2 = sentiments_data[\"Labels\"] != 0\n",
    "    range3 = sentiments_data[\"Labels\"] != -1\n",
    "\n",
    "    range4 = range1 & range2 & range3\n",
    "\n",
    "    sentiments_data[\"Labels\"][range4] = 0\n",
    "else:\n",
    "    sentiments_data.loc[sentiments_data[\"Labels\"] == \"Pos\", \"Sentiment\"] = 1\n",
    "    sentiments_data.loc[sentiments_data[\"Labels\"] == \"Neg\", \"Sentiment\"] = -1\n",
    "    sentiments_data.loc[sentiments_data[\"Labels\"] == \"Ne\", \"Sentiment\"] = 0"
   ]
  },
  {
   "cell_type": "code",
   "execution_count": null,
   "metadata": {},
   "outputs": [
    {
     "data": {
      "text/html": [
       "<div>\n",
       "<style scoped>\n",
       "    .dataframe tbody tr th:only-of-type {\n",
       "        vertical-align: middle;\n",
       "    }\n",
       "\n",
       "    .dataframe tbody tr th {\n",
       "        vertical-align: top;\n",
       "    }\n",
       "\n",
       "    .dataframe thead th {\n",
       "        text-align: right;\n",
       "    }\n",
       "</style>\n",
       "<table border=\"1\" class=\"dataframe\">\n",
       "  <thead>\n",
       "    <tr style=\"text-align: right;\">\n",
       "      <th></th>\n",
       "      <th>Unnamed: 0</th>\n",
       "      <th>Headline</th>\n",
       "      <th>Positive</th>\n",
       "      <th>Negative</th>\n",
       "      <th>Neutral</th>\n",
       "      <th>Sentiment</th>\n",
       "      <th>Date</th>\n",
       "    </tr>\n",
       "  </thead>\n",
       "  <tbody>\n",
       "    <tr>\n",
       "      <th>0</th>\n",
       "      <td>0</td>\n",
       "      <td>Original Pizza Day Purchaser Does It Again Wit...</td>\n",
       "      <td>0.039238</td>\n",
       "      <td>0.020659</td>\n",
       "      <td>0.940103</td>\n",
       "      <td>0</td>\n",
       "      <td>2/25/2018</td>\n",
       "    </tr>\n",
       "    <tr>\n",
       "      <th>1</th>\n",
       "      <td>1</td>\n",
       "      <td>This 11-year-old just wrote a book on bitcoin ...</td>\n",
       "      <td>0.072883</td>\n",
       "      <td>0.014962</td>\n",
       "      <td>0.912155</td>\n",
       "      <td>0</td>\n",
       "      <td>2/25/2018</td>\n",
       "    </tr>\n",
       "    <tr>\n",
       "      <th>2</th>\n",
       "      <td>2</td>\n",
       "      <td>Without Mentioning Blockchain, Putin Says That...</td>\n",
       "      <td>0.251929</td>\n",
       "      <td>0.014295</td>\n",
       "      <td>0.733777</td>\n",
       "      <td>0</td>\n",
       "      <td>2/25/2018</td>\n",
       "    </tr>\n",
       "    <tr>\n",
       "      <th>3</th>\n",
       "      <td>3</td>\n",
       "      <td>Meet the strippers tattooed with BARCODES so s...</td>\n",
       "      <td>0.056816</td>\n",
       "      <td>0.022921</td>\n",
       "      <td>0.920263</td>\n",
       "      <td>0</td>\n",
       "      <td>2/25/2018</td>\n",
       "    </tr>\n",
       "    <tr>\n",
       "      <th>4</th>\n",
       "      <td>4</td>\n",
       "      <td>Bitcoin Pizza Day 2: How A Lightning Payment M...</td>\n",
       "      <td>0.039520</td>\n",
       "      <td>0.034739</td>\n",
       "      <td>0.925741</td>\n",
       "      <td>0</td>\n",
       "      <td>2/26/2018</td>\n",
       "    </tr>\n",
       "    <tr>\n",
       "      <th>...</th>\n",
       "      <td>...</td>\n",
       "      <td>...</td>\n",
       "      <td>...</td>\n",
       "      <td>...</td>\n",
       "      <td>...</td>\n",
       "      <td>...</td>\n",
       "      <td>...</td>\n",
       "    </tr>\n",
       "    <tr>\n",
       "      <th>16152</th>\n",
       "      <td>23</td>\n",
       "      <td>Morgan Creek Self-Promotes Again with Lambo Sale</td>\n",
       "      <td>0.231835</td>\n",
       "      <td>0.008140</td>\n",
       "      <td>0.760025</td>\n",
       "      <td>0</td>\n",
       "      <td>2/24/2023</td>\n",
       "    </tr>\n",
       "    <tr>\n",
       "      <th>16153</th>\n",
       "      <td>24</td>\n",
       "      <td>Winklevoss twins want you to imagine a day whe...</td>\n",
       "      <td>0.061663</td>\n",
       "      <td>0.025351</td>\n",
       "      <td>0.912986</td>\n",
       "      <td>0</td>\n",
       "      <td>2/24/2023</td>\n",
       "    </tr>\n",
       "    <tr>\n",
       "      <th>16154</th>\n",
       "      <td>25</td>\n",
       "      <td>French 'Tabac' shops diversify, selling bitcoi...</td>\n",
       "      <td>0.557367</td>\n",
       "      <td>0.018303</td>\n",
       "      <td>0.424330</td>\n",
       "      <td>1</td>\n",
       "      <td>2/24/2023</td>\n",
       "    </tr>\n",
       "    <tr>\n",
       "      <th>16155</th>\n",
       "      <td>26</td>\n",
       "      <td>European Central Bank Policy Maker Calls Crypt...</td>\n",
       "      <td>0.031761</td>\n",
       "      <td>0.334079</td>\n",
       "      <td>0.634160</td>\n",
       "      <td>0</td>\n",
       "      <td>2/24/2023</td>\n",
       "    </tr>\n",
       "    <tr>\n",
       "      <th>16156</th>\n",
       "      <td>27</td>\n",
       "      <td>10 Years Ago Today, Satoshi Made Bitcoin a Pub...</td>\n",
       "      <td>0.058625</td>\n",
       "      <td>0.013852</td>\n",
       "      <td>0.927522</td>\n",
       "      <td>0</td>\n",
       "      <td>2/24/2023</td>\n",
       "    </tr>\n",
       "  </tbody>\n",
       "</table>\n",
       "<p>16157 rows × 7 columns</p>\n",
       "</div>"
      ],
      "text/plain": [
       "       Unnamed: 0                                           Headline  \\\n",
       "0               0  Original Pizza Day Purchaser Does It Again Wit...   \n",
       "1               1  This 11-year-old just wrote a book on bitcoin ...   \n",
       "2               2  Without Mentioning Blockchain, Putin Says That...   \n",
       "3               3  Meet the strippers tattooed with BARCODES so s...   \n",
       "4               4  Bitcoin Pizza Day 2: How A Lightning Payment M...   \n",
       "...           ...                                                ...   \n",
       "16152          23   Morgan Creek Self-Promotes Again with Lambo Sale   \n",
       "16153          24  Winklevoss twins want you to imagine a day whe...   \n",
       "16154          25  French 'Tabac' shops diversify, selling bitcoi...   \n",
       "16155          26  European Central Bank Policy Maker Calls Crypt...   \n",
       "16156          27  10 Years Ago Today, Satoshi Made Bitcoin a Pub...   \n",
       "\n",
       "       Positive  Negative   Neutral Sentiment       Date  \n",
       "0      0.039238  0.020659  0.940103         0  2/25/2018  \n",
       "1      0.072883  0.014962  0.912155         0  2/25/2018  \n",
       "2      0.251929  0.014295  0.733777         0  2/25/2018  \n",
       "3      0.056816  0.022921  0.920263         0  2/25/2018  \n",
       "4      0.039520  0.034739  0.925741         0  2/26/2018  \n",
       "...         ...       ...       ...       ...        ...  \n",
       "16152  0.231835  0.008140  0.760025         0  2/24/2023  \n",
       "16153  0.061663  0.025351  0.912986         0  2/24/2023  \n",
       "16154  0.557367  0.018303  0.424330         1  2/24/2023  \n",
       "16155  0.031761  0.334079  0.634160         0  2/24/2023  \n",
       "16156  0.058625  0.013852  0.927522         0  2/24/2023  \n",
       "\n",
       "[16157 rows x 7 columns]"
      ]
     },
     "execution_count": 151,
     "metadata": {},
     "output_type": "execute_result"
    }
   ],
   "source": [
    "sentiments_data"
   ]
  },
  {
   "cell_type": "code",
   "execution_count": null,
   "metadata": {},
   "outputs": [],
   "source": [
    "def simulation_trading(data, open_prices, period_days = 1, spending_period = 1, transaction_cost = 0):\n",
    "    # Встановлюємо змінні витрат, баланс в долларах, баланс в біткоїнах до нулів на початку.\n",
    "    spending = 0\n",
    "    balance = 0\n",
    "    balance_dollars = 100\n",
    "\n",
    "    data['Date'] = pd.to_datetime(data['Date'])\n",
    "    open_prices['Date'] = pd.to_datetime(open_prices['Date'])\n",
    "\n",
    "    data = data.iloc[-365:]\n",
    "    open_prices = open_prices.iloc[-365:]\n",
    "\n",
    "    data.sort_values('Date', inplace=True)\n",
    "\n",
    "\n",
    "    # Вибираємо унікальні дати, щоб проітерувати по них.\n",
    "    dates_unique = pd.to_datetime(data['Date'].unique())\n",
    "    balances = []\n",
    "    balances_dollars = []\n",
    "    balances_db = []\n",
    "    spendings = []\n",
    "    sentiments = []\n",
    "    open_prices_days = []\n",
    "    balance_ficional = 0\n",
    "    with open(\"logging_main.txt\", \"w\") as loggin_main:\n",
    "        with open(\"logging.txt\", \"w\") as logging:\n",
    "            previous = 0\n",
    "            for index in range(period_days - 1, len(dates_unique), period_days):\n",
    "                logging.write(f\"Iteration with index {previous/period_days}. \\n\")\n",
    "\n",
    "                #  Вибираємо унікальні дати у поточному періоді.\n",
    "                dates_unique_chunk = dates_unique[previous:index+1]\n",
    "                if not len(dates_unique_chunk):\n",
    "                    continue\n",
    "\n",
    "                logging.write(f\"Start date: {dates_unique_chunk[0]}.\\n\")\n",
    "                logging.write(f\"End date: {dates_unique_chunk[-1]}.\\n\")\n",
    "\n",
    "                # Вибираємо дані у поточному періоді.\n",
    "                after_start_date = data['Date'] >= dates_unique_chunk[0]\n",
    "                before_end_date = data['Date'] <= dates_unique_chunk[-1]\n",
    "                between_two_dates = after_start_date & before_end_date\n",
    "                data_chunk = data.loc[between_two_dates]\n",
    "\n",
    "                # Обраховуємо сентимент цього періоду.\n",
    "                if model== \"gpt\":\n",
    "                    sentiments_chunk = data_chunk['Labels']\n",
    "                else:\n",
    "                    sentiments_chunk = data_chunk['Sentiment']\n",
    "\n",
    "                period_sentiment = sum(sentiments_chunk)/len(sentiments_chunk)\n",
    "                sentiments.append(period_sentiment)\n",
    "\n",
    "                logging.write(f\"Sentiment of the period: {period_sentiment}.\\n\")\n",
    "\n",
    "                open_price = open_prices[open_prices[\"Date\"]==dates_unique_chunk[-1]].iloc[0][1]\n",
    "                open_prices_days.append(open_price)\n",
    "\n",
    "                logging.write(f\"Open price of the period: {open_price}.\\n\")\n",
    "\n",
    "                # Якщо сентимент позитивний, ми купуємо відповідну кількість біткоїнів за open price за весь бюджет, якщо він є.\n",
    "                if period_sentiment > 0:\n",
    "                    #if balance_dollars > 0:\n",
    "                    balance += balance_dollars/open_price\n",
    "\n",
    "                    balance_dollars = 0\n",
    "\n",
    "                    balances.append(balance)\n",
    "                    balances_dollars.append(balance_dollars)\n",
    "                    balances_db.append(balance*open_price)\n",
    "\n",
    "                    spending += transaction_cost\n",
    "\n",
    "                    spendings.append(transaction_cost)\n",
    "\n",
    "                    # # Якщо бюджет 0, тобто ми уже купували біткоїни у останньому ненульовому періоді, то ми купуємо відповідну до 1 доллара кількість біткоїнів.\n",
    "                    # else:\n",
    "                    #     balance += spending_period/open_price\n",
    "\n",
    "                    #     balance_ficional += spending_period/open_price\n",
    "                    #     spending += spending_period\n",
    "                    #     spending += transaction_cost\n",
    "\n",
    "                    #     spendings.append(transaction_cost+spending_period)\n",
    "                    #     balances.append(balance*open_price)\n",
    "\n",
    "                # Якщо сентимент від'ємний, то ми продаємо усі біткоїни за поточну open price та наш біткоїн-баланс стає нуль.\n",
    "                elif period_sentiment < 0:\n",
    "                    balance_dollars += balance*open_price\n",
    "                    balance = 0\n",
    "                    spending += transaction_cost\n",
    "\n",
    "                    spendings.append(transaction_cost)\n",
    "                    balances.append(balance)\n",
    "                    balances_dollars.append(balance_dollars)\n",
    "                    balances_db.append(balance*open_price)\n",
    "\n",
    "                else:\n",
    "                    spendings.append(0)\n",
    "                    try:\n",
    "                        balances.append(balances[-1])\n",
    "                        balances_dollars.append(balance_dollars[-1])\n",
    "                        balances_db.append(balances[-1]*open_price)\n",
    "\n",
    "                    except:\n",
    "                        balances.append(0)\n",
    "                        balances_dollars.append(0)\n",
    "                        balances_db.append(0*open_price)\n",
    "\n",
    "                logging.write(f'''Sheet of the period: \\n\n",
    "    spending - {spending};\n",
    "    dollars balance - {balance_dollars}\n",
    "    balance - {balance};\n",
    "    balance in dollars - {balance*open_price};''')\n",
    "\n",
    "                loggin_main.write(f\"{period_sentiment}, {spending},{balance_dollars},{balance},{open_price}\\n\")\n",
    "\n",
    "                # Оновлюємо змінну previous на кількість днів в періоді, щоб продовжувати ітерувати по наступному періоді потрібного розміру.\n",
    "                previous += period_days\n",
    "\n",
    "                logging.write(\"\\n\\n\")\n",
    "\n",
    "    if balance_dollars == 0:\n",
    "        roi = ((balance*open_price - 100 - spending)/(spending+100))*100\n",
    "    else:\n",
    "        roi = ((balance_dollars - 100 - spending)/(spending+100))*100\n",
    "    return (sentiments, open_prices_days, spending, balance_dollars, balance, balance*open_price, balances, balances_dollars, balances_db, roi)"
   ]
  },
  {
   "cell_type": "code",
   "execution_count": null,
   "metadata": {},
   "outputs": [
    {
     "name": "stderr",
     "output_type": "stream",
     "text": [
      "C:\\Users\\Roman Kypybida\\AppData\\Local\\Temp\\ipykernel_7708\\4089815782.py:8: SettingWithCopyWarning: \n",
      "A value is trying to be set on a copy of a slice from a DataFrame.\n",
      "Try using .loc[row_indexer,col_indexer] = value instead\n",
      "\n",
      "See the caveats in the documentation: https://pandas.pydata.org/pandas-docs/stable/user_guide/indexing.html#returning-a-view-versus-a-copy\n",
      "  open_prices['Date'] = pd.to_datetime(open_prices['Date'])\n",
      "C:\\Users\\Roman Kypybida\\AppData\\Local\\Temp\\ipykernel_7708\\4089815782.py:13: SettingWithCopyWarning: \n",
      "A value is trying to be set on a copy of a slice from a DataFrame\n",
      "\n",
      "See the caveats in the documentation: https://pandas.pydata.org/pandas-docs/stable/user_guide/indexing.html#returning-a-view-versus-a-copy\n",
      "  data.sort_values('Date', inplace=True)\n",
      "C:\\Users\\Roman Kypybida\\AppData\\Local\\Temp\\ipykernel_7708\\4089815782.py:56: FutureWarning: Series.__getitem__ treating keys as positions is deprecated. In a future version, integer keys will always be treated as labels (consistent with DataFrame behavior). To access a value by position, use `ser.iloc[pos]`\n",
      "  open_price = open_prices[open_prices[\"Date\"]==dates_unique_chunk[-1]].iloc[0][1]\n"
     ]
    },
    {
     "name": "stdout",
     "output_type": "stream",
     "text": [
      "0.00030000000000000014 100.89062586814626 0 0.0 0.8903231971766673\n"
     ]
    }
   ],
   "source": [
    "sentimens_results, open_prices_days, _, _, _, _, balances, balances_D, balances_db, roi = simulation_trading(sentiments_data, open_prices, 1, transaction_cost=0.00001)"
   ]
  },
  {
   "cell_type": "code",
   "execution_count": null,
   "metadata": {},
   "outputs": [
    {
     "data": {
      "text/plain": [
       "[0.0,\n",
       " -0.2,\n",
       " 0.1,\n",
       " -0.4,\n",
       " 0.3,\n",
       " -0.2,\n",
       " 0.0,\n",
       " -0.3,\n",
       " -0.1111111111111111,\n",
       " 0.0,\n",
       " -0.3,\n",
       " -0.1,\n",
       " 0.1,\n",
       " -0.2,\n",
       " -0.3,\n",
       " -0.5,\n",
       " -0.2,\n",
       " -0.1,\n",
       " 0.2,\n",
       " -0.1,\n",
       " -0.1111111111111111,\n",
       " 0.0,\n",
       " 0.2,\n",
       " 0.2,\n",
       " 0.1,\n",
       " -0.125,\n",
       " 0.0,\n",
       " 0.0,\n",
       " -0.1,\n",
       " -0.2,\n",
       " 0.1,\n",
       " -0.4,\n",
       " -0.1,\n",
       " -0.1,\n",
       " -0.2222222222222222,\n",
       " 0.0,\n",
       " 0.0,\n",
       " -0.1]"
      ]
     },
     "execution_count": 154,
     "metadata": {},
     "output_type": "execute_result"
    }
   ],
   "source": [
    "sentimens_results"
   ]
  },
  {
   "cell_type": "code",
   "execution_count": null,
   "metadata": {},
   "outputs": [],
   "source": [
    "open_prices_diff = np.array(open_prices_days)[1:] - np.array(open_prices_days)[:-1]"
   ]
  },
  {
   "cell_type": "code",
   "execution_count": null,
   "metadata": {},
   "outputs": [
    {
     "data": {
      "text/plain": [
       "array([ -467.19218,   407.49218,  1590.3043 ,   116.99571,   -73.3    ,\n",
       "         211.19997,  -289.29184,   427.10057,   -52.60873,    71.99999,\n",
       "         -50.9    ,   711.90001,  -910.10001,   295.5    ,   605.30001,\n",
       "        -240.20001,   -61.20001,  -103.89999,  -394.61517,  -170.9385 ,\n",
       "         479.59785,  -279.09694, -1160.92889,  -169.05006,   231.34645,\n",
       "         -75.64842,     6.14392,   406.8969 ,  2127.27425,  -813.56362,\n",
       "        1070.7589 ,    53.82813,  -360.65756,   572.8323 ,  -396.40969,\n",
       "        -268.66826,  -242.59777])"
      ]
     },
     "execution_count": 156,
     "metadata": {},
     "output_type": "execute_result"
    }
   ],
   "source": [
    "open_prices_diff"
   ]
  },
  {
   "cell_type": "code",
   "execution_count": null,
   "metadata": {},
   "outputs": [],
   "source": [
    "y_perc = np.divide(open_prices_diff, np.array(open_prices_days)[:-1])*100"
   ]
  },
  {
   "cell_type": "code",
   "execution_count": null,
   "metadata": {},
   "outputs": [],
   "source": [
    "between_range_1 = y_perc >=-0.5\n",
    "between_range_2 = y_perc <= 0.5\n",
    "between_range = between_range_1 & between_range_2"
   ]
  },
  {
   "cell_type": "code",
   "execution_count": null,
   "metadata": {},
   "outputs": [
    {
     "data": {
      "text/plain": [
       "array([-2.21001229,  1.97116968,  7.54410222,  0.51607244, -0.32166899,\n",
       "        0.92981879, -1.261889  ,  1.88681929, -0.22810771,  0.31290059,\n",
       "       -0.22051338,  3.0909707 , -3.83304907,  1.2941568 ,  2.61707218,\n",
       "       -1.01204173, -0.26049208, -0.44339554, -1.69152926, -0.74534044,\n",
       "        2.1068864 , -1.20078135, -5.05546337, -0.77535519,  1.06937163,\n",
       "       -0.34597611,  0.02819661,  1.86686689,  9.5811912 , -3.34388649,\n",
       "        4.55325917,  0.21892855, -1.46365388,  2.35925233, -1.59501235,\n",
       "       -1.09854801, -1.00296739])"
      ]
     },
     "execution_count": 159,
     "metadata": {},
     "output_type": "execute_result"
    }
   ],
   "source": [
    "y_class = y_perc.copy()\n",
    "y_class"
   ]
  },
  {
   "cell_type": "code",
   "execution_count": null,
   "metadata": {},
   "outputs": [],
   "source": [
    "y_class[between_range] = 0"
   ]
  },
  {
   "cell_type": "code",
   "execution_count": null,
   "metadata": {},
   "outputs": [],
   "source": [
    "y_class[y_perc < -0.5] = -1\n",
    "y_class[y_perc > 0.5] = 1"
   ]
  },
  {
   "cell_type": "code",
   "execution_count": null,
   "metadata": {},
   "outputs": [
    {
     "data": {
      "text/plain": [
       "array([-1.,  0.,  1.])"
      ]
     },
     "execution_count": 162,
     "metadata": {},
     "output_type": "execute_result"
    }
   ],
   "source": [
    "np.unique(y_class)"
   ]
  },
  {
   "cell_type": "code",
   "execution_count": null,
   "metadata": {},
   "outputs": [],
   "source": [
    "sentimens_results = np.array(sentimens_results)"
   ]
  },
  {
   "cell_type": "code",
   "execution_count": null,
   "metadata": {},
   "outputs": [],
   "source": [
    "between_range_1 = sentimens_results >=-0.5\n",
    "between_range_2 = sentimens_results <= 0.5\n",
    "between_range = between_range_1 & between_range_2"
   ]
  },
  {
   "cell_type": "code",
   "execution_count": null,
   "metadata": {},
   "outputs": [],
   "source": [
    "sentimens_results[sentimens_results < -0.5] = -1\n",
    "sentimens_results[sentimens_results > 0.5] = 1\n",
    "sentimens_results[between_range] = 0"
   ]
  },
  {
   "cell_type": "code",
   "execution_count": null,
   "metadata": {},
   "outputs": [],
   "source": [
    "from sklearn.metrics import f1_score\n",
    "from sklearn.metrics import confusion_matrix"
   ]
  },
  {
   "cell_type": "code",
   "execution_count": null,
   "metadata": {},
   "outputs": [
    {
     "data": {
      "text/plain": [
       "0.24364104364104366"
      ]
     },
     "execution_count": 168,
     "metadata": {},
     "output_type": "execute_result"
    }
   ],
   "source": [
    "f1_score(sentimens_results[:-1], y_class, average = \"weighted\")"
   ]
  },
  {
   "cell_type": "code",
   "execution_count": null,
   "metadata": {},
   "outputs": [
    {
     "data": {
      "text/plain": [
       "37"
      ]
     },
     "execution_count": 169,
     "metadata": {},
     "output_type": "execute_result"
    }
   ],
   "source": [
    "len(y_class)"
   ]
  },
  {
   "cell_type": "code",
   "execution_count": null,
   "metadata": {},
   "outputs": [
    {
     "data": {
      "text/plain": [
       "37"
      ]
     },
     "execution_count": 170,
     "metadata": {},
     "output_type": "execute_result"
    }
   ],
   "source": [
    "len(sentimens_results[:-1])"
   ]
  },
  {
   "cell_type": "code",
   "execution_count": null,
   "metadata": {},
   "outputs": [],
   "source": [
    "from sklearn.metrics import accuracy_score"
   ]
  },
  {
   "cell_type": "code",
   "execution_count": null,
   "metadata": {},
   "outputs": [
    {
     "data": {
      "text/plain": [
       "0.24324324324324326"
      ]
     },
     "execution_count": 172,
     "metadata": {},
     "output_type": "execute_result"
    }
   ],
   "source": [
    "accuracy_score(sentimens_results[:-1], y_class)"
   ]
  }
 ],
 "metadata": {
  "kernelspec": {
   "display_name": "Python 3",
   "language": "python",
   "name": "python3"
  },
  "language_info": {
   "codemirror_mode": {
    "name": "ipython",
    "version": 3
   },
   "file_extension": ".py",
   "mimetype": "text/x-python",
   "name": "python",
   "nbconvert_exporter": "python",
   "pygments_lexer": "ipython3",
   "version": "3.10.11"
  }
 },
 "nbformat": 4,
 "nbformat_minor": 2
}
