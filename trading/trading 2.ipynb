{
 "cells": [
  {
   "cell_type": "code",
   "execution_count": 473,
   "metadata": {},
   "outputs": [],
   "source": [
    "import pandas as pd\n",
    "import numpy as np"
   ]
  },
  {
   "cell_type": "code",
   "execution_count": 474,
   "metadata": {},
   "outputs": [],
   "source": [
    "path = \"llama_reg_predictions_Llama70B.txt\""
   ]
  },
  {
   "cell_type": "code",
   "execution_count": 475,
   "metadata": {},
   "outputs": [],
   "source": [
    "sentiments = np.loadtxt(path)"
   ]
  },
  {
   "cell_type": "code",
   "execution_count": 476,
   "metadata": {},
   "outputs": [],
   "source": [
    "data = pd.read_csv(\"engish_headlines_3_nnew.csv\", encoding=\"latin-1\")"
   ]
  },
  {
   "cell_type": "code",
   "execution_count": 477,
   "metadata": {},
   "outputs": [],
   "source": [
    "open_prices = data[[\"Date\", \"open_price\"]]"
   ]
  },
  {
   "cell_type": "code",
   "execution_count": 478,
   "metadata": {},
   "outputs": [],
   "source": [
    "open_prices = open_prices.iloc[-365:]"
   ]
  },
  {
   "cell_type": "code",
   "execution_count": 479,
   "metadata": {},
   "outputs": [
    {
     "data": {
      "text/html": [
       "<div>\n",
       "<style scoped>\n",
       "    .dataframe tbody tr th:only-of-type {\n",
       "        vertical-align: middle;\n",
       "    }\n",
       "\n",
       "    .dataframe tbody tr th {\n",
       "        vertical-align: top;\n",
       "    }\n",
       "\n",
       "    .dataframe thead th {\n",
       "        text-align: right;\n",
       "    }\n",
       "</style>\n",
       "<table border=\"1\" class=\"dataframe\">\n",
       "  <thead>\n",
       "    <tr style=\"text-align: right;\">\n",
       "      <th></th>\n",
       "      <th>Date</th>\n",
       "      <th>open_price</th>\n",
       "    </tr>\n",
       "  </thead>\n",
       "  <tbody>\n",
       "    <tr>\n",
       "      <th>15792</th>\n",
       "      <td>1/18/2023</td>\n",
       "      <td>21139.80011</td>\n",
       "    </tr>\n",
       "    <tr>\n",
       "      <th>15793</th>\n",
       "      <td>1/19/2023</td>\n",
       "      <td>20672.60793</td>\n",
       "    </tr>\n",
       "    <tr>\n",
       "      <th>15794</th>\n",
       "      <td>1/19/2023</td>\n",
       "      <td>20672.60793</td>\n",
       "    </tr>\n",
       "    <tr>\n",
       "      <th>15795</th>\n",
       "      <td>1/19/2023</td>\n",
       "      <td>20672.60793</td>\n",
       "    </tr>\n",
       "    <tr>\n",
       "      <th>15796</th>\n",
       "      <td>1/19/2023</td>\n",
       "      <td>20672.60793</td>\n",
       "    </tr>\n",
       "    <tr>\n",
       "      <th>...</th>\n",
       "      <td>...</td>\n",
       "      <td>...</td>\n",
       "    </tr>\n",
       "    <tr>\n",
       "      <th>16152</th>\n",
       "      <td>2/24/2023</td>\n",
       "      <td>23945.40390</td>\n",
       "    </tr>\n",
       "    <tr>\n",
       "      <th>16153</th>\n",
       "      <td>2/24/2023</td>\n",
       "      <td>23945.40390</td>\n",
       "    </tr>\n",
       "    <tr>\n",
       "      <th>16154</th>\n",
       "      <td>2/24/2023</td>\n",
       "      <td>23945.40390</td>\n",
       "    </tr>\n",
       "    <tr>\n",
       "      <th>16155</th>\n",
       "      <td>2/24/2023</td>\n",
       "      <td>23945.40390</td>\n",
       "    </tr>\n",
       "    <tr>\n",
       "      <th>16156</th>\n",
       "      <td>2/24/2023</td>\n",
       "      <td>23945.40390</td>\n",
       "    </tr>\n",
       "  </tbody>\n",
       "</table>\n",
       "<p>365 rows × 2 columns</p>\n",
       "</div>"
      ],
      "text/plain": [
       "            Date   open_price\n",
       "15792  1/18/2023  21139.80011\n",
       "15793  1/19/2023  20672.60793\n",
       "15794  1/19/2023  20672.60793\n",
       "15795  1/19/2023  20672.60793\n",
       "15796  1/19/2023  20672.60793\n",
       "...          ...          ...\n",
       "16152  2/24/2023  23945.40390\n",
       "16153  2/24/2023  23945.40390\n",
       "16154  2/24/2023  23945.40390\n",
       "16155  2/24/2023  23945.40390\n",
       "16156  2/24/2023  23945.40390\n",
       "\n",
       "[365 rows x 2 columns]"
      ]
     },
     "execution_count": 479,
     "metadata": {},
     "output_type": "execute_result"
    }
   ],
   "source": [
    "open_prices"
   ]
  },
  {
   "cell_type": "code",
   "execution_count": 480,
   "metadata": {},
   "outputs": [],
   "source": [
    "def simulation_trading(sentiments_input, open_prices_input, period_days = 1, transaction_cost = 0):\n",
    "    spending = 0\n",
    "    balance = 0\n",
    "    balance_dollars = 100\n",
    "\n",
    "    balances = []\n",
    "    balances_dollars = []\n",
    "    balances_db = []\n",
    "    spendings = []\n",
    "    open_prices_days = []\n",
    "    previous = 0\n",
    "    for index in range(len(sentiments_input)):\n",
    "        sentiment = sentiments_input[index]\n",
    "\n",
    "        open_price = open_prices_input.iloc[index][1]\n",
    "        open_prices_days.append(open_price)\n",
    "\n",
    "        if sentiment > 0:\n",
    "            balance += balance_dollars/open_price\n",
    "\n",
    "            balance_dollars = 0\n",
    "\n",
    "            balances.append(balance)\n",
    "            balances_dollars.append(balance_dollars)\n",
    "            balances_db.append(balance*open_price)\n",
    "\n",
    "            spending += transaction_cost\n",
    "\n",
    "            spendings.append(transaction_cost)\n",
    "\n",
    "        elif sentiment < 0:\n",
    "            balance_dollars += balance*open_price\n",
    "            balance = 0\n",
    "            spending += transaction_cost\n",
    "\n",
    "            spendings.append(transaction_cost)\n",
    "            balances.append(balance)\n",
    "            balances_dollars.append(balance_dollars)\n",
    "            balances_db.append(balance*open_price)\n",
    "\n",
    "        else:\n",
    "            spendings.append(0)\n",
    "            try:\n",
    "                balances.append(balances[-1])\n",
    "                balances_dollars.append(balance_dollars[-1])\n",
    "                balances_db.append(balances[-1]*open_price)\n",
    "\n",
    "            except:\n",
    "                balances.append(0)\n",
    "                balances_dollars.append(0)\n",
    "                balances_db.append(0*open_price)\n",
    "\n",
    "        # Оновлюємо змінну previous на кількість днів в періоді, щоб продовжувати ітерувати по наступному періоді потрібного розміру.\n",
    "        previous += period_days\n",
    "\n",
    "    if balance_dollars == 0:\n",
    "        roi = ((balance*open_price - 100 - spending)/(spending+100))*100\n",
    "    else:\n",
    "        roi = ((balance_dollars - 100 - spending)/(spending+100))*100\n",
    "\n",
    "    return (open_prices_days, spending, balance_dollars, balance, balance*open_price, balances, balances_dollars, balances_db, roi)"
   ]
  },
  {
   "cell_type": "code",
   "execution_count": 481,
   "metadata": {},
   "outputs": [
    {
     "name": "stderr",
     "output_type": "stream",
     "text": [
      "C:\\Users\\Roman Kypybida\\AppData\\Local\\Temp\\ipykernel_4788\\2385791399.py:15: FutureWarning: Series.__getitem__ treating keys as positions is deprecated. In a future version, integer keys will always be treated as labels (consistent with DataFrame behavior). To access a value by position, use `ser.iloc[pos]`\n",
      "  open_price = open_prices_input.iloc[index][1]\n"
     ]
    },
    {
     "name": "stdout",
     "output_type": "stream",
     "text": [
      "0.0036500000000000087 110.17342160755719 0 0.0 10.169400424441696\n"
     ]
    }
   ],
   "source": [
    "open_prices_days, _, _, _, _, balances, balances_D, balances_db, roi = simulation_trading(sentiments, open_prices, 1, transaction_cost=0.00001)"
   ]
  },
  {
   "cell_type": "code",
   "execution_count": null,
   "metadata": {},
   "outputs": [],
   "source": []
  }
 ],
 "metadata": {
  "kernelspec": {
   "display_name": "Python 3",
   "language": "python",
   "name": "python3"
  },
  "language_info": {
   "codemirror_mode": {
    "name": "ipython",
    "version": 3
   },
   "file_extension": ".py",
   "mimetype": "text/x-python",
   "name": "python",
   "nbconvert_exporter": "python",
   "pygments_lexer": "ipython3",
   "version": "3.10.11"
  }
 },
 "nbformat": 4,
 "nbformat_minor": 2
}
