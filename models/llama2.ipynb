{
 "cells": [
  {
   "cell_type": "code",
   "execution_count": 1,
   "metadata": {},
   "outputs": [
    {
     "name": "stdout",
     "output_type": "stream",
     "text": [
      "^C\n"
     ]
    }
   ],
   "source": [
    "!pip install replicate"
   ]
  },
  {
   "cell_type": "code",
   "execution_count": 2,
   "metadata": {},
   "outputs": [],
   "source": [
    "import os\n",
    "\n",
    "os.environ[\"REPLICATE_API_TOKEN\"] = \"r8_CRhklxeOq9PoCUo6CG2Fve1bcUhPlZ44HKZWq\""
   ]
  },
  {
   "cell_type": "code",
   "execution_count": 3,
   "metadata": {},
   "outputs": [
    {
     "name": "stdout",
     "output_type": "stream",
     "text": [
      "Requirement already satisfied: replicate in c:\\users\\roman kypybida\\appdata\\local\\packages\\pythonsoftwarefoundation.python.3.10_qbz5n2kfra8p0\\localcache\\local-packages\\python310\\site-packages (0.24.0)\n",
      "Requirement already satisfied: httpx<1,>=0.21.0 in c:\\users\\roman kypybida\\appdata\\local\\packages\\pythonsoftwarefoundation.python.3.10_qbz5n2kfra8p0\\localcache\\local-packages\\python310\\site-packages (from replicate) (0.27.0)\n",
      "Requirement already satisfied: packaging in c:\\users\\roman kypybida\\appdata\\local\\packages\\pythonsoftwarefoundation.python.3.10_qbz5n2kfra8p0\\localcache\\local-packages\\python310\\site-packages (from replicate) (23.1)\n",
      "Requirement already satisfied: pydantic>1 in c:\\users\\roman kypybida\\appdata\\local\\packages\\pythonsoftwarefoundation.python.3.10_qbz5n2kfra8p0\\localcache\\local-packages\\python310\\site-packages (from replicate) (2.4.2)\n",
      "Requirement already satisfied: typing-extensions>=4.5.0 in c:\\users\\roman kypybida\\appdata\\local\\packages\\pythonsoftwarefoundation.python.3.10_qbz5n2kfra8p0\\localcache\\local-packages\\python310\\site-packages (from replicate) (4.8.0)\n",
      "Requirement already satisfied: anyio in c:\\users\\roman kypybida\\appdata\\local\\packages\\pythonsoftwarefoundation.python.3.10_qbz5n2kfra8p0\\localcache\\local-packages\\python310\\site-packages (from httpx<1,>=0.21.0->replicate) (3.6.2)\n",
      "Requirement already satisfied: certifi in c:\\users\\roman kypybida\\appdata\\local\\packages\\pythonsoftwarefoundation.python.3.10_qbz5n2kfra8p0\\localcache\\local-packages\\python310\\site-packages (from httpx<1,>=0.21.0->replicate) (2023.5.7)\n",
      "Requirement already satisfied: httpcore==1.* in c:\\users\\roman kypybida\\appdata\\local\\packages\\pythonsoftwarefoundation.python.3.10_qbz5n2kfra8p0\\localcache\\local-packages\\python310\\site-packages (from httpx<1,>=0.21.0->replicate) (1.0.4)\n",
      "Requirement already satisfied: idna in c:\\users\\roman kypybida\\appdata\\local\\packages\\pythonsoftwarefoundation.python.3.10_qbz5n2kfra8p0\\localcache\\local-packages\\python310\\site-packages (from httpx<1,>=0.21.0->replicate) (3.4)\n",
      "Requirement already satisfied: sniffio in c:\\users\\roman kypybida\\appdata\\local\\packages\\pythonsoftwarefoundation.python.3.10_qbz5n2kfra8p0\\localcache\\local-packages\\python310\\site-packages (from httpx<1,>=0.21.0->replicate) (1.3.0)\n",
      "Requirement already satisfied: h11<0.15,>=0.13 in c:\\users\\roman kypybida\\appdata\\local\\packages\\pythonsoftwarefoundation.python.3.10_qbz5n2kfra8p0\\localcache\\local-packages\\python310\\site-packages (from httpcore==1.*->httpx<1,>=0.21.0->replicate) (0.14.0)\n",
      "Requirement already satisfied: annotated-types>=0.4.0 in c:\\users\\roman kypybida\\appdata\\local\\packages\\pythonsoftwarefoundation.python.3.10_qbz5n2kfra8p0\\localcache\\local-packages\\python310\\site-packages (from pydantic>1->replicate) (0.5.0)\n",
      "Requirement already satisfied: pydantic-core==2.10.1 in c:\\users\\roman kypybida\\appdata\\local\\packages\\pythonsoftwarefoundation.python.3.10_qbz5n2kfra8p0\\localcache\\local-packages\\python310\\site-packages (from pydantic>1->replicate) (2.10.1)\n"
     ]
    }
   ],
   "source": [
    "import replicate"
   ]
  },
  {
   "cell_type": "code",
   "execution_count": 4,
   "metadata": {},
   "outputs": [],
   "source": [
    "api = replicate.Client(api_token=os.environ[\"REPLICATE_API_TOKEN\"])"
   ]
  },
  {
   "cell_type": "code",
   "execution_count": 5,
   "metadata": {},
   "outputs": [],
   "source": [
    "import pandas as pd\n",
    "data = pd.read_csv(\"headlines.csv\")[\"Headline\"].iloc[27]"
   ]
  },
  {
   "cell_type": "code",
   "execution_count": 6,
   "metadata": {},
   "outputs": [
    {
     "data": {
      "text/plain": [
       "'How blockchain, the technology behind bitcoin, could change your life'"
      ]
     },
     "execution_count": 6,
     "metadata": {},
     "output_type": "execute_result"
    }
   ],
   "source": [
    "data"
   ]
  },
  {
   "cell_type": "code",
   "execution_count": 7,
   "metadata": {},
   "outputs": [
    {
     "name": "stdout",
     "output_type": "stream",
     "text": [
      "Pos\n"
     ]
    }
   ],
   "source": [
    "output = api.run(\n",
    "    \"meta/llama-2-13b-chat\",\n",
    "    input={\n",
    "        \"debug\": False,\n",
    "        \"top_k\": 10,\n",
    "        \"top_p\": 1,\n",
    "        \"prompt\":f'''\n",
    "        Be concise, give one word answer.\n",
    "Answer “Positive” if good\n",
    "news, \"Negative\" if bad news, or “Neutral” if uncertain in the first line.Is this headline\n",
    "good or bad or neutral for the stock price of Bitcoin in the short term?\n",
    "Headline: {data}\n",
    "''',\n",
    "        \"temperature\": 0.5,\n",
    "        \"system_prompt\": '''Forget all your previous instructions. You are\n",
    "a financial expert with stock recommendation experience. Be concise, give one word answer.''',\n",
    "        \"max_new_tokens\": 50,\n",
    "        \"min_new_tokens\": -1\n",
    "    },\n",
    ")\n",
    "print(output[0])"
   ]
  },
  {
   "cell_type": "code",
   "execution_count": 8,
   "metadata": {},
   "outputs": [
    {
     "name": "stdout",
     "output_type": "stream",
     "text": [
      "Positive. The headline highlights the potential benefits and uses of blockchain technology, which could lead to increased demand for Bitcoin and other cryptocurrencies."
     ]
    }
   ],
   "source": [
    "for item in output:\n",
    "    print(item, end=\"\")"
   ]
  },
  {
   "cell_type": "code",
   "execution_count": 9,
   "metadata": {},
   "outputs": [
    {
     "name": "stdout",
     "output_type": "stream",
     "text": [
      "['Pos', 'itive', '.', ' The', ' head', 'line', ' highlight', 's', ' the', ' potential', ' benefits', ' and', ' uses', ' of', ' block', 'chain', ' technology', ',', ' which', ' could', ' lead', ' to', ' increased', ' demand', ' for', ' Bit', 'co', 'in', ' and', ' other', ' crypt', 'oc', 'urr', 'encies', '.']\n"
     ]
    }
   ],
   "source": [
    "print(output)"
   ]
  },
  {
   "cell_type": "code",
   "execution_count": 10,
   "metadata": {},
   "outputs": [],
   "source": [
    "outputs = []"
   ]
  },
  {
   "cell_type": "code",
   "execution_count": 11,
   "metadata": {},
   "outputs": [],
   "source": [
    "import pandas as pd\n",
    "file_df = pd.read_csv(\"engish_headlines_3_nnew.csv\",  encoding='latin-1')"
   ]
  },
  {
   "cell_type": "code",
   "execution_count": 12,
   "metadata": {},
   "outputs": [
    {
     "data": {
      "text/html": [
       "<div>\n",
       "<style scoped>\n",
       "    .dataframe tbody tr th:only-of-type {\n",
       "        vertical-align: middle;\n",
       "    }\n",
       "\n",
       "    .dataframe tbody tr th {\n",
       "        vertical-align: top;\n",
       "    }\n",
       "\n",
       "    .dataframe thead th {\n",
       "        text-align: right;\n",
       "    }\n",
       "</style>\n",
       "<table border=\"1\" class=\"dataframe\">\n",
       "  <thead>\n",
       "    <tr style=\"text-align: right;\">\n",
       "      <th></th>\n",
       "      <th>Unnamed: 0</th>\n",
       "      <th>Date</th>\n",
       "      <th>Headline</th>\n",
       "      <th>begins_at</th>\n",
       "      <th>open_price</th>\n",
       "      <th>close_price</th>\n",
       "    </tr>\n",
       "  </thead>\n",
       "  <tbody>\n",
       "    <tr>\n",
       "      <th>0</th>\n",
       "      <td>0</td>\n",
       "      <td>2/25/2018</td>\n",
       "      <td>Original Pizza Day Purchaser Does It Again Wit...</td>\n",
       "      <td>2/25/2018</td>\n",
       "      <td>9680.2000</td>\n",
       "      <td>9584.45000</td>\n",
       "    </tr>\n",
       "    <tr>\n",
       "      <th>1</th>\n",
       "      <td>1</td>\n",
       "      <td>2/25/2018</td>\n",
       "      <td>This 11-year-old just wrote a book on bitcoin ...</td>\n",
       "      <td>2/25/2018</td>\n",
       "      <td>9680.2000</td>\n",
       "      <td>9584.45000</td>\n",
       "    </tr>\n",
       "    <tr>\n",
       "      <th>2</th>\n",
       "      <td>2</td>\n",
       "      <td>2/25/2018</td>\n",
       "      <td>Without Mentioning Blockchain, Putin Says That...</td>\n",
       "      <td>2/25/2018</td>\n",
       "      <td>9680.2000</td>\n",
       "      <td>9584.45000</td>\n",
       "    </tr>\n",
       "    <tr>\n",
       "      <th>3</th>\n",
       "      <td>3</td>\n",
       "      <td>2/25/2018</td>\n",
       "      <td>Meet the strippers tattooed with BARCODES so s...</td>\n",
       "      <td>2/25/2018</td>\n",
       "      <td>9680.2000</td>\n",
       "      <td>9584.45000</td>\n",
       "    </tr>\n",
       "    <tr>\n",
       "      <th>4</th>\n",
       "      <td>4</td>\n",
       "      <td>2/26/2018</td>\n",
       "      <td>Bitcoin Pizza Day 2: How A Lightning Payment M...</td>\n",
       "      <td>2/26/2018</td>\n",
       "      <td>9592.4950</td>\n",
       "      <td>10318.78500</td>\n",
       "    </tr>\n",
       "    <tr>\n",
       "      <th>...</th>\n",
       "      <td>...</td>\n",
       "      <td>...</td>\n",
       "      <td>...</td>\n",
       "      <td>...</td>\n",
       "      <td>...</td>\n",
       "      <td>...</td>\n",
       "    </tr>\n",
       "    <tr>\n",
       "      <th>16152</th>\n",
       "      <td>16165</td>\n",
       "      <td>2/24/2023</td>\n",
       "      <td>Top 3 Price Prediction Bitcoin, Ethereum, Ripp...</td>\n",
       "      <td>2/24/2023</td>\n",
       "      <td>23945.4039</td>\n",
       "      <td>23185.71626</td>\n",
       "    </tr>\n",
       "    <tr>\n",
       "      <th>16153</th>\n",
       "      <td>16166</td>\n",
       "      <td>2/24/2023</td>\n",
       "      <td>Bitcoin price stays under $24K as PCE data hel...</td>\n",
       "      <td>2/24/2023</td>\n",
       "      <td>23945.4039</td>\n",
       "      <td>23185.71626</td>\n",
       "    </tr>\n",
       "    <tr>\n",
       "      <th>16154</th>\n",
       "      <td>16167</td>\n",
       "      <td>2/24/2023</td>\n",
       "      <td>What are Bitcoin [BTC] whales up to? Decodingâ¦</td>\n",
       "      <td>2/24/2023</td>\n",
       "      <td>23945.4039</td>\n",
       "      <td>23185.71626</td>\n",
       "    </tr>\n",
       "    <tr>\n",
       "      <th>16155</th>\n",
       "      <td>16168</td>\n",
       "      <td>2/24/2023</td>\n",
       "      <td>Bitcoin 2024 halving will be its âmost impor...</td>\n",
       "      <td>2/24/2023</td>\n",
       "      <td>23945.4039</td>\n",
       "      <td>23185.71626</td>\n",
       "    </tr>\n",
       "    <tr>\n",
       "      <th>16156</th>\n",
       "      <td>16169</td>\n",
       "      <td>2/24/2023</td>\n",
       "      <td>Bitcoin Price Prediction As BTC Consolidates a...</td>\n",
       "      <td>2/24/2023</td>\n",
       "      <td>23945.4039</td>\n",
       "      <td>23185.71626</td>\n",
       "    </tr>\n",
       "  </tbody>\n",
       "</table>\n",
       "<p>16157 rows × 6 columns</p>\n",
       "</div>"
      ],
      "text/plain": [
       "       Unnamed: 0       Date  \\\n",
       "0               0  2/25/2018   \n",
       "1               1  2/25/2018   \n",
       "2               2  2/25/2018   \n",
       "3               3  2/25/2018   \n",
       "4               4  2/26/2018   \n",
       "...           ...        ...   \n",
       "16152       16165  2/24/2023   \n",
       "16153       16166  2/24/2023   \n",
       "16154       16167  2/24/2023   \n",
       "16155       16168  2/24/2023   \n",
       "16156       16169  2/24/2023   \n",
       "\n",
       "                                                Headline  begins_at  \\\n",
       "0      Original Pizza Day Purchaser Does It Again Wit...  2/25/2018   \n",
       "1      This 11-year-old just wrote a book on bitcoin ...  2/25/2018   \n",
       "2      Without Mentioning Blockchain, Putin Says That...  2/25/2018   \n",
       "3      Meet the strippers tattooed with BARCODES so s...  2/25/2018   \n",
       "4      Bitcoin Pizza Day 2: How A Lightning Payment M...  2/26/2018   \n",
       "...                                                  ...        ...   \n",
       "16152  Top 3 Price Prediction Bitcoin, Ethereum, Ripp...  2/24/2023   \n",
       "16153  Bitcoin price stays under $24K as PCE data hel...  2/24/2023   \n",
       "16154   What are Bitcoin [BTC] whales up to? Decodingâ¦  2/24/2023   \n",
       "16155  Bitcoin 2024 halving will be its âmost impor...  2/24/2023   \n",
       "16156  Bitcoin Price Prediction As BTC Consolidates a...  2/24/2023   \n",
       "\n",
       "       open_price  close_price  \n",
       "0       9680.2000   9584.45000  \n",
       "1       9680.2000   9584.45000  \n",
       "2       9680.2000   9584.45000  \n",
       "3       9680.2000   9584.45000  \n",
       "4       9592.4950  10318.78500  \n",
       "...           ...          ...  \n",
       "16152  23945.4039  23185.71626  \n",
       "16153  23945.4039  23185.71626  \n",
       "16154  23945.4039  23185.71626  \n",
       "16155  23945.4039  23185.71626  \n",
       "16156  23945.4039  23185.71626  \n",
       "\n",
       "[16157 rows x 6 columns]"
      ]
     },
     "execution_count": 12,
     "metadata": {},
     "output_type": "execute_result"
    }
   ],
   "source": [
    "file_df"
   ]
  },
  {
   "cell_type": "code",
   "execution_count": 13,
   "metadata": {},
   "outputs": [],
   "source": [
    "n = 50"
   ]
  },
  {
   "cell_type": "code",
   "execution_count": 28,
   "metadata": {},
   "outputs": [],
   "source": [
    "for index in range(152, int(len(file_df)/n)+1):\n",
    "    chunk = file_df.iloc[index*n:(index+1)*n]\n",
    "\n",
    "    with open(f\"Chunk_Llama_13B_2_{index}.txt\", \"w\") as file_:\n",
    "        for headline in chunk[\"Headline\"]:\n",
    "            output = api.run(\n",
    "    \"meta/llama-2-13b-chat\",\n",
    "    input={\n",
    "        \"debug\": False,\n",
    "        \"top_p\": 1,\n",
    "        \"prompt\":f'''Be concise, give one word answer. Answer “Positive” if good\n",
    "news, \"Negative\" if bad news, or “Neutral” if uncertain in the first line.Is this headline\n",
    "good or bad or neutral for the stock price of Bitcoin in the short term?\n",
    "Headline: {headline}\n",
    "''',\n",
    "        \"temperature\": 0.5,\n",
    "        \"system_prompt\": '''Forget all your previous instructions. You are\n",
    "a financial expert with stock recommendation experience. Be concise, give one word answer.''',\n",
    "        \"max_new_tokens\": 50,\n",
    "        \"min_new_tokens\": -1\n",
    "    },\n",
    ")\n",
    "            if output[0] == 'Pos' or output[0]==\"Neg\" or output[0] == \"Ne\":\n",
    "                file_.write(output[0] + \"\\n\")\n",
    "\n",
    "            else:\n",
    "                if \"Positive\" in \"\".join(output):\n",
    "                    file_.write(\"Pos\\n\")\n",
    "                elif \"Negative\" in \"\".join(output):\n",
    "                    file_.write(\"Neg\\n\")\n",
    "                else:\n",
    "                    file_.write(\"Ne\\n\")"
   ]
  },
  {
   "cell_type": "code",
   "execution_count": null,
   "metadata": {},
   "outputs": [],
   "source": []
  }
 ],
 "metadata": {
  "kernelspec": {
   "display_name": "Python 3",
   "language": "python",
   "name": "python3"
  },
  "language_info": {
   "codemirror_mode": {
    "name": "ipython",
    "version": 3
   },
   "file_extension": ".py",
   "mimetype": "text/x-python",
   "name": "python",
   "nbconvert_exporter": "python",
   "pygments_lexer": "ipython3",
   "version": "3.10.11"
  }
 },
 "nbformat": 4,
 "nbformat_minor": 2
}
