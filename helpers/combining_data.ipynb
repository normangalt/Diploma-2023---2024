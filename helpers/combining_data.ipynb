{
 "cells": [
  {
   "cell_type": "code",
   "execution_count": 1,
   "metadata": {},
   "outputs": [
    {
     "name": "stdout",
     "output_type": "stream",
     "text": [
      "Combined files successfully into 'combined_data.txt'.\n"
     ]
    }
   ],
   "source": [
    "import os\n",
    "\n",
    "def combine_files_with_prefix(prefix, output_filename):\n",
    "    # Get a list of all files with the specified prefix\n",
    "    files = [file for file in os.listdir() if file.startswith(prefix)]\n",
    "\n",
    "    # Sort the files based on the number at the end of their names\n",
    "    files.sort(key=lambda x: int(x[len(prefix):-4]))  # Assuming files end with \".txt\"\n",
    "\n",
    "    # Open the output file in write mode\n",
    "    with open(output_filename, 'w') as outfile:\n",
    "        # Iterate over the sorted files and append their content to the output file\n",
    "        for file in files:\n",
    "            with open(file, 'r') as infile:\n",
    "                outfile.write(infile.read())\n",
    "\n",
    "    print(f\"Combined files successfully into '{output_filename}'.\")\n",
    "\n",
    "# Example usage\n",
    "combine_files_with_prefix(\"Chunk_gpt_3_5_\", \"combined_data.txt\")"
   ]
  },
  {
   "cell_type": "code",
   "execution_count": null,
   "metadata": {},
   "outputs": [],
   "source": []
  }
 ],
 "metadata": {
  "kernelspec": {
   "display_name": "Python 3",
   "language": "python",
   "name": "python3"
  },
  "language_info": {
   "codemirror_mode": {
    "name": "ipython",
    "version": 3
   },
   "file_extension": ".py",
   "mimetype": "text/x-python",
   "name": "python",
   "nbconvert_exporter": "python",
   "pygments_lexer": "ipython3",
   "version": "3.10.11"
  }
 },
 "nbformat": 4,
 "nbformat_minor": 2
}
